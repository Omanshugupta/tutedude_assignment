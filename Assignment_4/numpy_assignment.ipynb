{
 "cells": [
  {
   "cell_type": "markdown",
   "id": "948e990f-81c5-46df-bb7d-54e038350577",
   "metadata": {},
   "source": [
    "## numpy_assignment"
   ]
  },
  {
   "cell_type": "code",
   "execution_count": null,
   "id": "8109e4e4-7f7e-4a3d-b4b6-a32884bc94aa",
   "metadata": {},
   "outputs": [],
   "source": []
  },
  {
   "cell_type": "markdown",
   "id": "081d0c32-07c1-4184-93f4-6c35faa2c6ce",
   "metadata": {
    "jp-MarkdownHeadingCollapsed": true
   },
   "source": [
    "### 1 : Creating a 1D NumPyArray\n",
    "\n",
    "We form a 1D NumPy array of integers from 1 to 20 with `np.arange()`. Next, we compute simple statistical values such as sum, mean, median, and standard deviation. We also find the indices of elements greater than 10 using a condition within `np.where()`."
   ]
  },
  {
   "cell_type": "code",
   "execution_count": 19,
   "id": "816d0a3b-d215-41dc-acac-e0d1adc8c341",
   "metadata": {},
   "outputs": [
    {
     "name": "stdout",
     "output_type": "stream",
     "text": [
      "Sum: 210\n",
      "Mean: 10.5\n",
      "Median: 10.5\n",
      "Std Dev: 5.766281297335398\n",
      "Indices > 10: [10 11 12 13 14 15 16 17 18 19]\n"
     ]
    }
   ],
   "source": [
    "import numpy as np\n",
    "arr1d = np.arange(1, 21)\n",
    "print(\"Sum:\", arr1d.sum())\n",
    "print(\"Mean:\", arr1d.mean())\n",
    "print(\"Median:\", np.median(arr1d))\n",
    "print(\"Std Dev:\", arr1d.std())\n",
    "print(\"Indices > 10:\", np.where(arr1d > 10)[0])\n",
    "\n"
   ]
  },
  {
   "cell_type": "markdown",
   "id": "822c7289-c1bf-42e8-8175-6246801f1787",
   "metadata": {
    "jp-MarkdownHeadingCollapsed": true
   },
   "source": [
    "### 2 : Creating a 2D Array(4x4)\n",
    "\n",
    "We create a 2D array of shape 4x4 with numbers from 1 to 16 with `reshape()`. We print the initial array, its transpose with `.T`, and calculate row and column sums.\n"
   ]
  },
  {
   "cell_type": "code",
   "execution_count": 13,
   "id": "a1004071-1f29-457a-bc89-ed4a7c9be9af",
   "metadata": {},
   "outputs": [
    {
     "name": "stdout",
     "output_type": "stream",
     "text": [
      "Array:\n",
      " [[ 1  2  3  4]\n",
      " [ 5  6  7  8]\n",
      " [ 9 10 11 12]\n",
      " [13 14 15 16]]\n",
      "Transpose:\n",
      " [[ 1  5  9 13]\n",
      " [ 2  6 10 14]\n",
      " [ 3  7 11 15]\n",
      " [ 4  8 12 16]]\n",
      "Row-wise sum: [10 26 42 58]\n",
      "Column-wise sum: [28 32 36 40]\n"
     ]
    }
   ],
   "source": [
    "arr2d = np.arange(1, 17).reshape(4, 4)\n",
    "print(\"Array:\\n\", arr2d)\n",
    "print(\"Transpose:\\n\", arr2d.T)\n",
    "print(\"Row-wise sum:\", arr2d.sum(axis=1))\n",
    "print(\"Column-wise sum:\", arr2d.sum(axis=0))\n"
   ]
  },
  {
   "cell_type": "markdown",
   "id": "812dedcc-fdb1-4993-b08d-967ac717b1de",
   "metadata": {
    "jp-MarkdownHeadingCollapsed": true
   },
   "source": [
    "### 3 : Random 3x3 Arrays – Element-wise and Dot Product\n",
    "\n",
    "We generate two random 3x3 arrays with integers between 1 and 20 using `np.random.randint()`. Then, we perform element-wise addition, subtraction, and multiplication. Finally, we calculate the dot product using `np.dot()`."
   ]
  },
  {
   "cell_type": "code",
   "execution_count": 7,
   "id": "548b1e7b-316a-4bfe-8bca-169fce3a3a21",
   "metadata": {},
   "outputs": [
    {
     "name": "stdout",
     "output_type": "stream",
     "text": [
      "Addition:\n",
      " [[32 17 17]\n",
      " [23 32 24]\n",
      " [33 27 16]]\n",
      "Subtraction:\n",
      " [[  8   1   1]\n",
      " [ 15  -8  14]\n",
      " [  5  13 -12]]\n",
      "Multiplication:\n",
      " [[240  72  72]\n",
      " [ 76 240  95]\n",
      " [266 140  28]]\n",
      "Dot Product:\n",
      " [[402 403 331]\n",
      " [542 525 478]\n",
      " [336 566 280]]\n"
     ]
    }
   ],
   "source": [
    "a = np.random.randint(1, 21, (3, 3))\n",
    "b = np.random.randint(1, 21, (3, 3))\n",
    "print(\"Addition:\\n\", a + b)\n",
    "print(\"Subtraction:\\n\", a - b)\n",
    "print(\"Multiplication:\\n\", a * b)\n",
    "print(\"Dot Product:\\n\", np.dot(a, b))\n"
   ]
  },
  {
   "cell_type": "markdown",
   "id": "c3ac4ddd-5630-425b-8802-c58ec0835134",
   "metadata": {
    "jp-MarkdownHeadingCollapsed": true
   },
   "source": [
    "### 4 : Reshaping and Slicing\n",
    "We reshape a 1D array of size 12 into a 3x4 matrix using `.reshape()`. Then, we extract the first two rows and the last two columns using array slicing."
   ]
  },
  {
   "cell_type": "code",
   "execution_count": 24,
   "id": "85ba3b05-f204-4d53-8775-9c0b42fe4792",
   "metadata": {},
   "outputs": [
    {
     "name": "stdout",
     "output_type": "stream",
     "text": [
      "Sliced:\n",
      " [[3 4]\n",
      " [7 8]]\n"
     ]
    }
   ],
   "source": [
    "arr = np.arange(1, 13)\n",
    "reshaped = arr.reshape(3, 4)\n",
    "print(\"Sliced:\\n\", reshaped[:2, -2:])\n"
   ]
  }
 ],
 "metadata": {
  "kernelspec": {
   "display_name": "Python 3 (ipykernel)",
   "language": "python",
   "name": "python3"
  },
  "language_info": {
   "codemirror_mode": {
    "name": "ipython",
    "version": 3
   },
   "file_extension": ".py",
   "mimetype": "text/x-python",
   "name": "python",
   "nbconvert_exporter": "python",
   "pygments_lexer": "ipython3",
   "version": "3.12.4"
  }
 },
 "nbformat": 4,
 "nbformat_minor": 5
}
