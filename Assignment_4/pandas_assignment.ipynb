{
 "cells": [
  {
   "cell_type": "markdown",
   "id": "d2055d91-8b65-4fb0-86d7-19d720fe38ae",
   "metadata": {},
   "source": [
    "# pandas_assignment"
   ]
  },
  {
   "cell_type": "markdown",
   "id": "f360187c-c63c-4381-bb60-689b4b41e945",
   "metadata": {
    "jp-MarkdownHeadingCollapsed": true
   },
   "source": [
    "### 1(a) : Creating and Printing DataFrame\n",
    "\n",
    "This step loads a tiny dataset into a DataFrame and prints the first five rows via .head(). It serves to check whether data has been loaded properly and provides a rough idea of how its structure looks."
   ]
  },
  {
   "cell_type": "code",
   "execution_count": 59,
   "id": "d43e5d86-dd0f-4891-b5fa-02edb3cbc511",
   "metadata": {},
   "outputs": [
    {
     "name": "stdout",
     "output_type": "stream",
     "text": [
      "      Name  Age Department  Salary\n",
      "0    Alice   24         HR   45000\n",
      "1      Bob   27    Finance   54000\n",
      "2  Charlie   22         IT   50000\n",
      "3    Diana   32  Marketing   62000\n",
      "4      Eve   29         HR   47000\n"
     ]
    }
   ],
   "source": [
    "import pandas as pd\n",
    "\n",
    "data = {\n",
    "    'Name': ['Alice', 'Bob', 'Charlie', 'Diana', 'Eve'],\n",
    "    'Age': [24, 27, 22, 32, 29],\n",
    "    'Department': ['HR', 'Finance', 'IT', 'Marketing', 'HR'],\n",
    "    'Salary': [45000, 54000, 50000, 62000, 47000]\n",
    "}\n",
    "df = pd.DataFrame(data)\n",
    "print(df.head())"
   ]
  },
  {
   "cell_type": "markdown",
   "id": "8e6defed-3763-464e-8e34-6b37c67fcf1c",
   "metadata": {
    "jp-MarkdownHeadingCollapsed": true
   },
   "source": [
    "### 1(b) : Provide summary statistics of 'Age' and 'Salary'\n",
    "Applying the.describe() function, you determine statistical measures such as mean, min, max, and standard deviation for columns 'Age' and 'Salary'. This provides insights into numeric data range and distribution."
   ]
  },
  {
   "cell_type": "code",
   "execution_count": 61,
   "id": "4365739f-3f07-4724-812f-8fcfb253aed8",
   "metadata": {},
   "outputs": [
    {
     "name": "stdout",
     "output_type": "stream",
     "text": [
      "             Age        Salary\n",
      "count   5.000000      5.000000\n",
      "mean   26.800000  51600.000000\n",
      "std     3.962323   6730.527468\n",
      "min    22.000000  45000.000000\n",
      "25%    24.000000  47000.000000\n",
      "50%    27.000000  50000.000000\n",
      "75%    29.000000  54000.000000\n",
      "max    32.000000  62000.000000\n"
     ]
    }
   ],
   "source": [
    "print(df[['Age', 'Salary']].describe())"
   ]
  },
  {
   "cell_type": "markdown",
   "id": "7599a94a-1bbe-4ccb-802c-970addb17319",
   "metadata": {
    "jp-MarkdownHeadingCollapsed": true
   },
   "source": [
    "### 1(c) : Compute the average compensation of workers in the HR department\n",
    "Here, we are filtering the DataFrame for rows where Department is 'HR' and then taking the mean of their salaries. This is helpful for seeing department-specific compensation trends."
   ]
  },
  {
   "cell_type": "code",
   "execution_count": 63,
   "id": "2ebbd974-4801-4785-b450-3847fb186a7d",
   "metadata": {},
   "outputs": [
    {
     "name": "stdout",
     "output_type": "stream",
     "text": [
      "Avg HR Salary: 46000.0\n"
     ]
    }
   ],
   "source": [
    "print(\"Avg HR Salary:\", df[df['Department'] == 'HR']['Salary'].mean())"
   ]
  },
  {
   "cell_type": "markdown",
   "id": "18bc1c4e-a63c-4db0-86fb-42dddbd455c0",
   "metadata": {
    "jp-MarkdownHeadingCollapsed": true
   },
   "source": [
    "### 2 : Insert a new column 'Bonus' as 10% of the salary\n",
    "A new column is created by multiplying the 'Salary' column by 0.10. This illustrates how you can create new data fields based on existing columns and how you can do vectorized operations in Pandas."
   ]
  },
  {
   "cell_type": "code",
   "execution_count": 65,
   "id": "b71bb906-c728-4060-b56f-4576f395ac59",
   "metadata": {},
   "outputs": [],
   "source": [
    "df['Bonus'] = df['Salary'] * 0.10"
   ]
  },
  {
   "cell_type": "markdown",
   "id": "3a7406e4-6459-4a93-8a66-b0949c9a39ca",
   "metadata": {
    "jp-MarkdownHeadingCollapsed": true
   },
   "source": [
    "### 3 : Filter the DataFrame to display employees between the ages of 25 and 30\r\n",
    "This section filters the DataFrame based on a condition where it checks whether the 'Age' lies between 25 and 30. It assists in pulling out meaningful subsets of data based on certain criteria."
   ]
  },
  {
   "cell_type": "code",
   "execution_count": 67,
   "id": "4a9f247f-0f3a-41d0-9168-9956764318f2",
   "metadata": {},
   "outputs": [
    {
     "name": "stdout",
     "output_type": "stream",
     "text": [
      "  Name  Age Department  Salary   Bonus\n",
      "1  Bob   27    Finance   54000  5400.0\n",
      "4  Eve   29         HR   47000  4700.0\n"
     ]
    }
   ],
   "source": [
    "filtered_df = df[(df['Age'] >= 25) & (df['Age'] <= 30)]\n",
    "print(filtered_df)\n"
   ]
  },
  {
   "cell_type": "markdown",
   "id": "0a008f81-8d7f-43e6-bdc4-b252a5ee4a3e",
   "metadata": {
    "jp-MarkdownHeadingCollapsed": true
   },
   "source": [
    "### 4 : Group data by 'Department' and find average salary\n",
    "With.groupby(), the data is partitioned by the 'Department' column, and the mean salary for each partition is calculated. This function comes in handy for summarizing data by categories."
   ]
  },
  {
   "cell_type": "code",
   "execution_count": 69,
   "id": "cecad019-a80c-4b95-85e6-1d5f32eb71a1",
   "metadata": {},
   "outputs": [
    {
     "name": "stdout",
     "output_type": "stream",
     "text": [
      "Department\n",
      "Finance      54000.0\n",
      "HR           46000.0\n",
      "IT           50000.0\n",
      "Marketing    62000.0\n",
      "Name: Salary, dtype: float64\n"
     ]
    }
   ],
   "source": [
    "print(df.groupby('Department')['Salary'].mean())"
   ]
  },
  {
   "cell_type": "markdown",
   "id": "8b761812-e2de-4294-86be-d193062cbe5d",
   "metadata": {},
   "source": [
    "### 5 : Sort the DataFrame in ascending order by 'Salary' and export to CSV\n",
    "The DataFrame is sorted in ascending order on the 'Salary' column by using.sort_values(). Next, the data that has been sorted is written into a CSV file, illustrating how results from analysis can be exported."
   ]
  },
  {
   "cell_type": "code",
   "execution_count": 71,
   "id": "c5913c8e-72ed-437b-a774-6a11b82fcd33",
   "metadata": {},
   "outputs": [],
   "source": [
    "sorted_df = df.sort_values(by='Salary')\n",
    "sorted_df.to_csv('sorted_employees.csv', index=False)"
   ]
  },
  {
   "cell_type": "code",
   "execution_count": null,
   "id": "c42d88f4-5e13-4e81-aa12-695fcbd20f37",
   "metadata": {},
   "outputs": [],
   "source": []
  },
  {
   "cell_type": "code",
   "execution_count": null,
   "id": "c02c0ead-599e-4c23-96ac-44716fa704fd",
   "metadata": {},
   "outputs": [],
   "source": []
  }
 ],
 "metadata": {
  "kernelspec": {
   "display_name": "Python 3 (ipykernel)",
   "language": "python",
   "name": "python3"
  },
  "language_info": {
   "codemirror_mode": {
    "name": "ipython",
    "version": 3
   },
   "file_extension": ".py",
   "mimetype": "text/x-python",
   "name": "python",
   "nbconvert_exporter": "python",
   "pygments_lexer": "ipython3",
   "version": "3.12.4"
  }
 },
 "nbformat": 4,
 "nbformat_minor": 5
}
